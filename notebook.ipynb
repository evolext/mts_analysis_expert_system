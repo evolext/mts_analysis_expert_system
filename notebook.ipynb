{
 "cells": [
  {
   "cell_type": "code",
   "execution_count": 2,
   "id": "3814d8a3",
   "metadata": {},
   "outputs": [],
   "source": [
    "import warnings\n",
    "warnings.filterwarnings(\"ignore\")"
   ]
  },
  {
   "cell_type": "code",
   "execution_count": 10,
   "id": "23e3bb50",
   "metadata": {},
   "outputs": [],
   "source": [
    "import os\n",
    "import pandas as pd\n",
    "import json\n",
    "from sentence_transformers import SentenceTransformer"
   ]
  },
  {
   "cell_type": "code",
   "execution_count": 4,
   "id": "df15d1ea",
   "metadata": {},
   "outputs": [
    {
     "name": "stderr",
     "output_type": "stream",
     "text": [
      "Some weights of RobertaModel were not initialized from the model checkpoint at ai-forever/ru-en-RoSBERTa and are newly initialized: ['pooler.dense.bias', 'pooler.dense.weight']\n",
      "You should probably TRAIN this model on a down-stream task to be able to use it for predictions and inference.\n"
     ]
    }
   ],
   "source": [
    "# Загружаем модель для эмбеддингов\n",
    "model = SentenceTransformer('ai-forever/ru-en-RoSBERTa')"
   ]
  },
  {
   "cell_type": "code",
   "execution_count": 5,
   "id": "eaebfb9f",
   "metadata": {},
   "outputs": [],
   "source": [
    "# Загружаем данные из файла\n",
    "with open('./characteristics/time_series.json', 'r', encoding='utf-8') as f:\n",
    "    ts_data = json.load(f)"
   ]
  },
  {
   "cell_type": "code",
   "execution_count": 6,
   "id": "d56562ae",
   "metadata": {},
   "outputs": [],
   "source": [
    "# Подгружаем характеристики\n",
    "ts_characteristics = ts_data['sets']\n",
    "ts_characteristics_extended = {k['name']: {'description': k['description']} for k in ts_characteristics}"
   ]
  },
  {
   "cell_type": "code",
   "execution_count": 8,
   "id": "3127e29c",
   "metadata": {},
   "outputs": [],
   "source": [
    "# Расчет дополнительных признаков\n",
    "for k in ts_characteristics_extended.keys():\n",
    "    ts = pd.read_csv(f'./datasets/{k}.csv')\n",
    "\n",
    "    # Число наблюдений\n",
    "    ts_characteristics_extended[k]['n_obs'] = ts['date'].nunique()\n",
    "\n",
    "    # Периодичность наблюдений в секундах\n",
    "    date_series = pd.to_datetime(ts['date'].drop_duplicates())\n",
    "    date_series = date_series.sort_values()\n",
    "    date_diffs = date_series.diff().dropna().dt.total_seconds()\n",
    "    ts_characteristics_extended[k]['periodicity'] = date_diffs.mean()\n",
    "\n",
    "    # Провекта на регулярность\n",
    "    median = date_diffs.median()\n",
    "    regular_fraction = (date_diffs == median).mean()\n",
    "    ts_characteristics_extended[k]['regular_fraction'] = regular_fraction == 1.0\n"
   ]
  },
  {
   "cell_type": "code",
   "execution_count": 25,
   "id": "cf043056",
   "metadata": {},
   "outputs": [],
   "source": [
    "# Подгрузка TFB признаков\n",
    "for k in ts_characteristics_extended:\n",
    "    df_characteristics = pd.read_csv(f'./characteristics/TFB_characteristics_{k}.csv')\n",
    "    tfb_characteristics = df_characteristics.drop(columns='Variable').abs().mean()\n",
    "    ts_characteristics_extended[k].update(tfb_characteristics.to_dict())"
   ]
  },
  {
   "cell_type": "code",
   "execution_count": 27,
   "id": "eb2f74c8",
   "metadata": {},
   "outputs": [
    {
     "data": {
      "text/plain": [
       "{'description': 'PEMS-BAY — датасет дорожного трафика района залива Сан-Франциско (Bay Area, Калифорния). Содержит измерения средней скорости движения транспорта (миль/час) по дорожным сенсорам. Каждый канал - один сенсор. Данные собраны с января по май 2017 года. Целевая переменная – средняя скорость движения по каждому сенсору. Экзогенные переменные отсутствуют. Рядые вещественные, регулярные. Категориальные данные отсутствуют. Наблюдается выраженная суточная и недельная сезонность.',\n",
       " 'n_obs': 52116,\n",
       " 'periodicity': 300.0,\n",
       " 'regular_fraction': True,\n",
       " 'Transition': 0.00502447915321245,\n",
       " 'Shifting': 0.09043013514231561,\n",
       " 'Seasonality': 0.6293320960104397,\n",
       " 'Trend': 0.14460864559707,\n",
       " 'Stationarity': 7.554315902209213e-28,\n",
       " 'Correlation': 0.8424549153995613}"
      ]
     },
     "execution_count": 27,
     "metadata": {},
     "output_type": "execute_result"
    }
   ],
   "source": [
    "ts_characteristics_extended['PEMS-BAY']"
   ]
  },
  {
   "cell_type": "code",
   "execution_count": null,
   "id": "a0a7bb06",
   "metadata": {},
   "outputs": [],
   "source": []
  }
 ],
 "metadata": {
  "kernelspec": {
   "display_name": "tfb",
   "language": "python",
   "name": "python3"
  },
  "language_info": {
   "codemirror_mode": {
    "name": "ipython",
    "version": 3
   },
   "file_extension": ".py",
   "mimetype": "text/x-python",
   "name": "python",
   "nbconvert_exporter": "python",
   "pygments_lexer": "ipython3",
   "version": "3.8.20"
  }
 },
 "nbformat": 4,
 "nbformat_minor": 5
}
