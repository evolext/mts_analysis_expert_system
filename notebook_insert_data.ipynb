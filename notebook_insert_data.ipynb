{
 "cells": [
  {
   "cell_type": "code",
   "execution_count": 1,
   "id": "3814d8a3",
   "metadata": {},
   "outputs": [],
   "source": [
    "import warnings\n",
    "warnings.filterwarnings(\"ignore\")"
   ]
  },
  {
   "cell_type": "code",
   "execution_count": 27,
   "id": "23e3bb50",
   "metadata": {},
   "outputs": [],
   "source": [
    "import json\n",
    "import pandas as pd\n",
    "from tqdm import tqdm\n",
    "from sentence_transformers import SentenceTransformer"
   ]
  },
  {
   "cell_type": "code",
   "execution_count": 13,
   "id": "812640ee",
   "metadata": {},
   "outputs": [],
   "source": [
    "from dotenv import load_dotenv\n",
    "import psycopg2\n",
    "from psycopg2.extras import execute_values"
   ]
  },
  {
   "cell_type": "markdown",
   "id": "147ed589",
   "metadata": {},
   "source": [
    "#### Подготовка данных"
   ]
  },
  {
   "cell_type": "code",
   "execution_count": 14,
   "id": "df15d1ea",
   "metadata": {},
   "outputs": [
    {
     "name": "stderr",
     "output_type": "stream",
     "text": [
      "Some weights of RobertaModel were not initialized from the model checkpoint at ai-forever/ru-en-RoSBERTa and are newly initialized: ['pooler.dense.bias', 'pooler.dense.weight']\n",
      "You should probably TRAIN this model on a down-stream task to be able to use it for predictions and inference.\n"
     ]
    }
   ],
   "source": [
    "# Загружаем модель для эмбеддингов\n",
    "model = SentenceTransformer('ai-forever/ru-en-RoSBERTa')"
   ]
  },
  {
   "cell_type": "code",
   "execution_count": 15,
   "id": "eaebfb9f",
   "metadata": {},
   "outputs": [],
   "source": [
    "# Загружаем данные из файла\n",
    "with open('./characteristics/time_series.json', 'r', encoding='utf-8') as f:\n",
    "    ts_data = json.load(f)"
   ]
  },
  {
   "cell_type": "code",
   "execution_count": null,
   "id": "99fe2d27",
   "metadata": {},
   "outputs": [],
   "source": [
    "# Подгружаем характеристики\n",
    "ts_characteristics = ts_data['sets']"
   ]
  },
  {
   "cell_type": "code",
   "execution_count": 31,
   "id": "b5a96fa2",
   "metadata": {},
   "outputs": [
    {
     "name": "stderr",
     "output_type": "stream",
     "text": [
      "100%|██████████| 7/7 [00:01<00:00,  3.50it/s]\n"
     ]
    }
   ],
   "source": [
    "ts_characteristics_extended = []\n",
    "for ts in tqdm(ts_characteristics):\n",
    "    name = ts['name']\n",
    "    methodologicas_desc = ts['description']['methodological']\n",
    "    subject_desc = ts['description']['subject']\n",
    "    emb_subject_desc = model.encode(subject_desc, convert_to_numpy=True, normalize_embeddings=True)\n",
    "\n",
    "    ts_characteristics_extended.append({\n",
    "        'name': name,\n",
    "        'desc_subject': subject_desc,\n",
    "        'desc_methodological': methodologicas_desc,\n",
    "        'emb_subject_description': emb_subject_desc.tolist()\n",
    "    })"
   ]
  },
  {
   "cell_type": "markdown",
   "id": "9c2bd212",
   "metadata": {},
   "source": [
    "#### Запрос и выполнение"
   ]
  },
  {
   "cell_type": "code",
   "execution_count": 20,
   "id": "b5f5fbe4",
   "metadata": {},
   "outputs": [],
   "source": [
    "# Подключение к БД\n",
    "load_dotenv()\n",
    "conn = psycopg2.connect()"
   ]
  },
  {
   "cell_type": "code",
   "execution_count": 30,
   "id": "9d7eccc7",
   "metadata": {},
   "outputs": [],
   "source": [
    "query = \"\"\"\n",
    "        INSERT INTO time_series_cases (\n",
    "            name, desc_subject, desc_methodological, emb\n",
    "        ) VALUES %s\n",
    "        \"\"\""
   ]
  },
  {
   "cell_type": "code",
   "execution_count": 32,
   "id": "3664f08c",
   "metadata": {},
   "outputs": [],
   "source": [
    "# Подготовка структур к выводу\n",
    "values_to_insert = [\n",
    "    (\n",
    "        case[\"name\"],\n",
    "        case[\"desc_subject\"],\n",
    "        case[\"desc_methodological\"],\n",
    "        case[\"emb_subject_description\"]\n",
    "    )\n",
    "    for case in ts_characteristics_extended\n",
    "]"
   ]
  },
  {
   "cell_type": "code",
   "execution_count": 34,
   "id": "020cbc74",
   "metadata": {},
   "outputs": [],
   "source": [
    "with conn, conn.cursor() as cur:\n",
    "    execute_values(cur, query, values_to_insert)"
   ]
  },
  {
   "cell_type": "code",
   "execution_count": 35,
   "id": "7ef1db7e",
   "metadata": {},
   "outputs": [],
   "source": [
    "conn.close()"
   ]
  },
  {
   "cell_type": "code",
   "execution_count": null,
   "id": "44807f00",
   "metadata": {},
   "outputs": [],
   "source": []
  }
 ],
 "metadata": {
  "kernelspec": {
   "display_name": "tfb",
   "language": "python",
   "name": "python3"
  },
  "language_info": {
   "codemirror_mode": {
    "name": "ipython",
    "version": 3
   },
   "file_extension": ".py",
   "mimetype": "text/x-python",
   "name": "python",
   "nbconvert_exporter": "python",
   "pygments_lexer": "ipython3",
   "version": "3.8.20"
  }
 },
 "nbformat": 4,
 "nbformat_minor": 5
}
