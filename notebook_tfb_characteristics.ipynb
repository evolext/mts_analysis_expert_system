{
 "cells": [
  {
   "cell_type": "code",
   "execution_count": 1,
   "id": "de2b8234",
   "metadata": {},
   "outputs": [],
   "source": [
    "%load_ext autoreload\n",
    "%autoreload 2"
   ]
  },
  {
   "cell_type": "code",
   "execution_count": 2,
   "id": "069e1a1c",
   "metadata": {},
   "outputs": [],
   "source": [
    "import os\n",
    "import pandas as pd"
   ]
  },
  {
   "cell_type": "code",
   "execution_count": 5,
   "id": "7bce5104",
   "metadata": {},
   "outputs": [],
   "source": [
    "import warnings\n",
    "warnings.filterwarnings(\"ignore\")"
   ]
  },
  {
   "cell_type": "code",
   "execution_count": 6,
   "id": "17ae369e",
   "metadata": {},
   "outputs": [],
   "source": [
    "from ts_feature_extractor import TimeSeriesFeatureExtractorParallel"
   ]
  },
  {
   "cell_type": "code",
   "execution_count": 7,
   "id": "27c7c196",
   "metadata": {},
   "outputs": [
    {
     "name": "stdout",
     "output_type": "stream",
     "text": [
      "Electricity.csv: 321 columns, 26304 rows\n",
      "ETTh1.csv: 7 columns, 17420 rows\n",
      "ILI.csv: 7 columns, 966 rows\n",
      "METR-LA.csv: 207 columns, 34272 rows\n",
      "PEMS-BAY.csv: 325 columns, 52116 rows\n",
      "PEMS04.csv: 307 columns, 16992 rows\n",
      "PEMS08.csv: 170 columns, 17856 rows\n",
      "Solar.csv: 137 columns, 52560 rows\n",
      "Wind.csv: 7 columns, 48673 rows\n"
     ]
    }
   ],
   "source": [
    "datasets_folder = './datasets'\n",
    "datasets_files = os.listdir(datasets_folder)\n",
    "\n",
    "for f in datasets_files:\n",
    "    sample = pd.read_csv(os.path.join(datasets_folder, f))\n",
    "    n_cols = sample['cols'].nunique()\n",
    "    n_rows = sample['date'].nunique()\n",
    "    print(f\"{f}: {n_cols} columns, {n_rows} rows\")"
   ]
  },
  {
   "cell_type": "code",
   "execution_count": 9,
   "id": "7bbf7085",
   "metadata": {},
   "outputs": [
    {
     "name": "stderr",
     "output_type": "stream",
     "text": [
      "100%|██████████| 7/7 [04:49<00:00, 41.38s/it]00<?, ?it/s]\n"
     ]
    }
   ],
   "source": [
    "target_dataset = 'ETTh1'\n",
    "targeted_file = f'./datasets/{target_dataset}.csv'\n",
    "extractor = TimeSeriesFeatureExtractorParallel(n_jobs=-1)\n",
    "features = extractor.feature_extract(targeted_file)"
   ]
  },
  {
   "cell_type": "code",
   "execution_count": 13,
   "id": "fcb6fcf9",
   "metadata": {},
   "outputs": [],
   "source": [
    "features.to_csv(f'./characteristics/TFB_characteristics_{target_dataset}.csv', index=None)"
   ]
  }
 ],
 "metadata": {
  "kernelspec": {
   "display_name": "tfb",
   "language": "python",
   "name": "python3"
  },
  "language_info": {
   "codemirror_mode": {
    "name": "ipython",
    "version": 3
   },
   "file_extension": ".py",
   "mimetype": "text/x-python",
   "name": "python",
   "nbconvert_exporter": "python",
   "pygments_lexer": "ipython3",
   "version": "3.8.20"
  }
 },
 "nbformat": 4,
 "nbformat_minor": 5
}
